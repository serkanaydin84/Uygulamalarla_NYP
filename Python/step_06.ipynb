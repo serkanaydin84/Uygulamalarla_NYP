{
 "cells": [
  {
   "cell_type": "code",
   "execution_count": 29,
   "metadata": {},
   "outputs": [],
   "source": [
    "class Product:\n",
    "    def __init__(self, name:str=\"Default\", price:float=0, quantity:int=1) -> None:\n",
    "        print(f\"Product class'ından bir tane name: {name} instance türetildi.\")\n",
    "        self.__name = name\n",
    "        self.__price = price\n",
    "        self.__quantity = quantity\n",
    "        \n",
    "    @property\n",
    "    def name(self):\n",
    "        return self.__name\n",
    "        \n",
    "    @property\n",
    "    def price(self):\n",
    "        return self.__price\n",
    "        \n",
    "    @property\n",
    "    def quantity(self):\n",
    "        return self.__quantity\n",
    "    \n",
    "    @name.setter\n",
    "    def name(self, name:str) -> None:\n",
    "        self.__name = name\n",
    "    \n",
    "    @price.setter\n",
    "    def price(self, price:float) -> None:\n",
    "        self.__price = price\n",
    "        \n",
    "    @quantity.setter\n",
    "    def quantity(self, quantity:int) -> None:\n",
    "        self.__quantity = quantity\n",
    "        \n",
    "    def get_total_price(self) -> float:\n",
    "        return self.__price * self.__quantity"
   ]
  },
  {
   "cell_type": "code",
   "execution_count": 30,
   "metadata": {},
   "outputs": [
    {
     "name": "stdout",
     "output_type": "stream",
     "text": [
      "Product class'ından bir tane name: Laptop instance türetildi.\n",
      "HP Omen 15\n",
      "3300\n",
      "7\n",
      "23100\n"
     ]
    }
   ],
   "source": [
    "item1 = Product(\"Laptop\", 799.99, 2)\n",
    "item1.name = \"HP Omen 15\"\n",
    "item1.price = 3300\n",
    "item1.quantity = 7\n",
    "print(item1.name)\n",
    "print(item1.price)\n",
    "print(item1.quantity)\n",
    "print(item1.get_total_price())"
   ]
  },
  {
   "cell_type": "code",
   "execution_count": 31,
   "metadata": {},
   "outputs": [
    {
     "name": "stdout",
     "output_type": "stream",
     "text": [
      "Product class'ından bir tane name: Default instance türetildi.\n",
      "Default\n",
      "0\n",
      "1\n"
     ]
    }
   ],
   "source": [
    "item2 = Product()\n",
    "print(item2.name)\n",
    "print(item2.price)\n",
    "print(item2.quantity)"
   ]
  },
  {
   "cell_type": "code",
   "execution_count": 32,
   "metadata": {},
   "outputs": [
    {
     "name": "stdout",
     "output_type": "stream",
     "text": [
      "Product class'ından bir tane name: Keyboard instance türetildi.\n",
      "Keyboard\n",
      "25.99\n",
      "1\n"
     ]
    }
   ],
   "source": [
    "item3 = Product(\"Keyboard\", 25.99)\n",
    "print(item3.name)\n",
    "print(item3.price)\n",
    "print(item3.quantity)"
   ]
  }
 ],
 "metadata": {
  "kernelspec": {
   "display_name": "Python 3",
   "language": "python",
   "name": "python3"
  },
  "language_info": {
   "codemirror_mode": {
    "name": "ipython",
    "version": 3
   },
   "file_extension": ".py",
   "mimetype": "text/x-python",
   "name": "python",
   "nbconvert_exporter": "python",
   "pygments_lexer": "ipython3",
   "version": "3.8.10"
  }
 },
 "nbformat": 4,
 "nbformat_minor": 2
}
