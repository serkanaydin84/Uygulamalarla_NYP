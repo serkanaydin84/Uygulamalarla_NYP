{
 "cells": [
  {
   "cell_type": "code",
   "execution_count": 18,
   "metadata": {},
   "outputs": [],
   "source": [
    "class Product:\n",
    "    def __init__(self, name, price, quantity):\n",
    "        print(f\"Product class'ından bir tane name: {name} instance türetildi.\")\n",
    "        self.__name = name\n",
    "        self.__price = price\n",
    "        self.__quantity = quantity\n",
    "        \n",
    "    @property\n",
    "    def name(self):\n",
    "        return self.__name\n",
    "        \n",
    "    @property\n",
    "    def price(self):\n",
    "        return self.__price\n",
    "        \n",
    "    @property\n",
    "    def quantity(self):\n",
    "        return self.__quantity\n",
    "    \n",
    "    @name.setter\n",
    "    def name(self, name):\n",
    "        self.__name = name\n",
    "    \n",
    "    @price.setter\n",
    "    def price(self, price):\n",
    "        self.__price = price\n",
    "        \n",
    "    @quantity.setter\n",
    "    def quantity(self, quantity):\n",
    "        self.__quantity = quantity"
   ]
  },
  {
   "cell_type": "code",
   "execution_count": 19,
   "metadata": {},
   "outputs": [
    {
     "name": "stdout",
     "output_type": "stream",
     "text": [
      "Product class'ından bir tane name: Laptop instance türetildi.\n",
      "HP Omen 15\n",
      "29950.99\n",
      "15\n"
     ]
    }
   ],
   "source": [
    "item1 = Product(\"Laptop\", 799.99, 2)\n",
    "item1.name = \"HP Omen 15\"\n",
    "item1.price = 29950.99\n",
    "item1.quantity = 15\n",
    "print(item1.name)\n",
    "print(item1.price)\n",
    "print(item1.quantity)"
   ]
  },
  {
   "cell_type": "code",
   "execution_count": 20,
   "metadata": {},
   "outputs": [
    {
     "name": "stdout",
     "output_type": "stream",
     "text": [
      "Product class'ından bir tane name: Computer instance türetildi.\n"
     ]
    }
   ],
   "source": [
    "item2 = Product(\"Computer\", 1199.99, 3)"
   ]
  }
 ],
 "metadata": {
  "kernelspec": {
   "display_name": "Python 3",
   "language": "python",
   "name": "python3"
  },
  "language_info": {
   "codemirror_mode": {
    "name": "ipython",
    "version": 3
   },
   "file_extension": ".py",
   "mimetype": "text/x-python",
   "name": "python",
   "nbconvert_exporter": "python",
   "pygments_lexer": "ipython3",
   "version": "3.8.10"
  }
 },
 "nbformat": 4,
 "nbformat_minor": 2
}
