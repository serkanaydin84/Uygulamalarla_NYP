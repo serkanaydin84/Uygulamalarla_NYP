{
 "cells": [
  {
   "cell_type": "code",
   "execution_count": 5,
   "metadata": {},
   "outputs": [],
   "source": [
    "class Product:\n",
    "    def __init__(self, name:str=\"Default\", price:float=0, quantity:int=1) -> None:\n",
    "        print(f\"Product class'ından bir tane name: {name} instance türetildi.\")\n",
    "        self.__name = name\n",
    "        self.__price = price\n",
    "        self.__quantity = quantity\n",
    "        \n",
    "    @property\n",
    "    def name(self):\n",
    "        return self.__name\n",
    "        \n",
    "    @property\n",
    "    def price(self):\n",
    "        return self.__price\n",
    "        \n",
    "    @property\n",
    "    def quantity(self):\n",
    "        return self.__quantity\n",
    "    \n",
    "    @name.setter\n",
    "    def name(self, name:str) -> None:\n",
    "        self.__name = name\n",
    "    \n",
    "    @price.setter\n",
    "    def price(self, price:float) -> None:\n",
    "        self.__price = price\n",
    "        \n",
    "    @quantity.setter\n",
    "    def quantity(self, quantity:int) -> None:\n",
    "        self.__quantity = quantity\n",
    "        \n",
    "    def get_total_price(self) -> float:\n",
    "        return self.__price * self.__quantity\n",
    "    \n",
    "    # temsil methodu. Class'ımızı istediğimiz formata otomatik olarak döndürebiliyoruz\n",
    "    def __repr__(self) -> str:\n",
    "        return f\"{self.__name} - {self.__price} - {self.__quantity}\""
   ]
  },
  {
   "cell_type": "code",
   "execution_count": 6,
   "metadata": {},
   "outputs": [
    {
     "name": "stdout",
     "output_type": "stream",
     "text": [
      "Product class'ından bir tane name: Laptop instance türetildi.\n",
      "HP Omen 15 - 799.99 - 2\n"
     ]
    }
   ],
   "source": [
    "item1 = Product(\"Laptop\", 799.99, 2)\n",
    "item1.name = \"HP Omen 15\"\n",
    "print(item1)"
   ]
  },
  {
   "cell_type": "code",
   "execution_count": 7,
   "metadata": {},
   "outputs": [
    {
     "name": "stdout",
     "output_type": "stream",
     "text": [
      "Product class'ından bir tane name: Computer instance türetildi.\n",
      "Computer - 199.99 - 2\n"
     ]
    }
   ],
   "source": [
    "item2 = Product(\"Computer\", 199.99, 2)\n",
    "print(item2)"
   ]
  },
  {
   "cell_type": "code",
   "execution_count": 8,
   "metadata": {},
   "outputs": [
    {
     "name": "stdout",
     "output_type": "stream",
     "text": [
      "Product class'ından bir tane name: Keyboard instance türetildi.\n",
      "Keyboard - 25.99 - 1\n"
     ]
    }
   ],
   "source": [
    "item3 = Product(\"Keyboard\", 25.99)\n",
    "print(item3)"
   ]
  }
 ],
 "metadata": {
  "kernelspec": {
   "display_name": "Python 3",
   "language": "python",
   "name": "python3"
  },
  "language_info": {
   "codemirror_mode": {
    "name": "ipython",
    "version": 3
   },
   "file_extension": ".py",
   "mimetype": "text/x-python",
   "name": "python",
   "nbconvert_exporter": "python",
   "pygments_lexer": "ipython3",
   "version": "3.8.10"
  }
 },
 "nbformat": 4,
 "nbformat_minor": 2
}
